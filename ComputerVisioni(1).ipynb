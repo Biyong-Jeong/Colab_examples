{
  "nbformat": 4,
  "nbformat_minor": 0,
  "metadata": {
    "colab": {
      "name": "ComputerVisioni(1).ipynb",
      "provenance": [],
      "collapsed_sections": [],
      "authorship_tag": "ABX9TyN361y7ZXg/yzEqOVlPO9ZB",
      "include_colab_link": true
    },
    "kernelspec": {
      "name": "python3",
      "display_name": "Python 3"
    },
    "language_info": {
      "name": "python"
    }
  },
  "cells": [
    {
      "cell_type": "markdown",
      "metadata": {
        "id": "view-in-github",
        "colab_type": "text"
      },
      "source": [
        "<a href=\"https://colab.research.google.com/github/Biyong-Jeong/Colab_examples/blob/main/ComputerVisioni(1).ipynb\" target=\"_parent\"><img src=\"https://colab.research.google.com/assets/colab-badge.svg\" alt=\"Open In Colab\"/></a>"
      ]
    },
    {
      "cell_type": "code",
      "metadata": {
        "id": "2NEhwTdCSNzw"
      },
      "source": [
        "import numpy as np\n",
        "\n",
        "class Neuron(object):\n",
        "  def __init__(self, num_inputs, activation_fn):\n",
        "    super().__init__()\n",
        "    self.W = np.random.rand(num_inputs)\n",
        "    self.b = np.random.rand(1)\n",
        "    self.activation_fn = activation_fn\n",
        "\n",
        "  def forward(self, x):\n",
        "    z = np.dot(x, self.W) + self.b\n",
        "    return self.activation_fn(z)"
      ],
      "execution_count": null,
      "outputs": []
    },
    {
      "cell_type": "code",
      "metadata": {
        "colab": {
          "base_uri": "https://localhost:8080/"
        },
        "id": "jT-2Ng5sSUe0",
        "outputId": "ee859093-4e89-4b2d-b956-37ded70f6d65"
      },
      "source": [
        "np.random.seed(42)\n",
        "\n",
        "x = np.random.rand(3).reshape(1,3)\n",
        "x"
      ],
      "execution_count": null,
      "outputs": [
        {
          "output_type": "execute_result",
          "data": {
            "text/plain": [
              "array([[0.37454012, 0.95071431, 0.73199394]])"
            ]
          },
          "metadata": {
            "tags": []
          },
          "execution_count": 9
        }
      ]
    },
    {
      "cell_type": "code",
      "metadata": {
        "id": "YGQ_3YYVTT5J"
      },
      "source": [
        "step_fn = lambda y: 0 if y<=0 else 1\n",
        "perceptron = Neuron(num_inputs=x.size, activation_fn = step_fn)"
      ],
      "execution_count": null,
      "outputs": []
    },
    {
      "cell_type": "code",
      "metadata": {
        "colab": {
          "base_uri": "https://localhost:8080/"
        },
        "id": "brxJm_5pTkXI",
        "outputId": "3c5b03e9-f3c3-4d09-a2d7-3e0badbd1de4"
      },
      "source": [
        "perceptron.W"
      ],
      "execution_count": null,
      "outputs": [
        {
          "output_type": "execute_result",
          "data": {
            "text/plain": [
              "array([0.59865848, 0.15601864, 0.15599452])"
            ]
          },
          "metadata": {
            "tags": []
          },
          "execution_count": 11
        }
      ]
    },
    {
      "cell_type": "code",
      "metadata": {
        "colab": {
          "base_uri": "https://localhost:8080/"
        },
        "id": "r0pV-BfzTodI",
        "outputId": "71f1e75b-6d4e-4748-f473-11ed75194792"
      },
      "source": [
        "perceptron.b"
      ],
      "execution_count": null,
      "outputs": [
        {
          "output_type": "execute_result",
          "data": {
            "text/plain": [
              "array([0.05808361])"
            ]
          },
          "metadata": {
            "tags": []
          },
          "execution_count": 12
        }
      ]
    },
    {
      "cell_type": "code",
      "metadata": {
        "colab": {
          "base_uri": "https://localhost:8080/"
        },
        "id": "uxR-9AmUTqCI",
        "outputId": "a16c9438-a587-4815-d6b6-d437f9abd27c"
      },
      "source": [
        "out = perceptron.forward(x)\n",
        "out"
      ],
      "execution_count": null,
      "outputs": [
        {
          "output_type": "execute_result",
          "data": {
            "text/plain": [
              "1"
            ]
          },
          "metadata": {
            "tags": []
          },
          "execution_count": 13
        }
      ]
    },
    {
      "cell_type": "code",
      "metadata": {
        "id": "yF7gAvqfTsco"
      },
      "source": [
        ""
      ],
      "execution_count": null,
      "outputs": []
    }
  ]
}