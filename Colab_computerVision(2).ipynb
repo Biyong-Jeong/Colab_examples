{
  "nbformat": 4,
  "nbformat_minor": 0,
  "metadata": {
    "colab": {
      "name": "Colab_computerVision(2).ipynb",
      "provenance": [],
      "authorship_tag": "ABX9TyNebi3ozArVzRhlDoiwRgp6",
      "include_colab_link": true
    },
    "kernelspec": {
      "name": "python3",
      "display_name": "Python 3"
    },
    "language_info": {
      "name": "python"
    }
  },
  "cells": [
    {
      "cell_type": "markdown",
      "metadata": {
        "id": "view-in-github",
        "colab_type": "text"
      },
      "source": [
        "<a href=\"https://colab.research.google.com/github/Biyong-Jeong/Colab_examples/blob/main/Colab_computerVision(2).ipynb\" target=\"_parent\"><img src=\"https://colab.research.google.com/assets/colab-badge.svg\" alt=\"Open In Colab\"/></a>"
      ]
    },
    {
      "cell_type": "code",
      "metadata": {
        "id": "8sskTA-B7_sT"
      },
      "source": [
        "# 뉴런 계층화 구현\n",
        "\n",
        "import numpy as np\n",
        "\n",
        "class FullyConnectedLayer(object):\n",
        "  def __init__(self, num_inputs, layer_size, activation_fn):\n",
        "    super().__init__()\n",
        "    self.W = np.random.standard_normal((num_inputs, layer_size))\n",
        "    self.b = np.random.standard_normal(layer_size)\n",
        "    self.size = layer_size\n",
        "    self.activation_fn = activation_fn\n",
        "\n",
        "  def forward(self, x):\n",
        "    z = np.dot(x, self.W) + self.b\n",
        "    return self.activation_fn(z)\n"
      ],
      "execution_count": null,
      "outputs": []
    },
    {
      "cell_type": "code",
      "metadata": {
        "colab": {
          "base_uri": "https://localhost:8080/"
        },
        "id": "oe7xmYVAA1P4",
        "outputId": "24336fae-1d06-46ec-de03-95d9031a8482"
      },
      "source": [
        "# 뉴런 계층화 구현의 실제 실행\n",
        "np.random.seed(42)\n",
        "\n",
        "x1 = np.random.uniform(-1,1,2).reshape(1,2)\n",
        "print(x1)\n",
        "x2 = np.random.uniform(-1,1,2).reshape(1,2)\n",
        "print(x2)\n",
        "\n",
        "relu_fn = lambda y: np.maximum(y,0)\n",
        "layer = FullyConnectedLayer(2,3,relu_fn)\n",
        "\n",
        "#개별 처리\n",
        "out1 = layer.forward(x1)\n",
        "print(out1)\n",
        "out2 = layer.forward(x2)\n",
        "print(out2)\n",
        "\n",
        "x12 = np.concatenate((x1, x2))\n",
        "out12 = layer.forward(x12)\n",
        "print(out12)"
      ],
      "execution_count": null,
      "outputs": [
        {
          "output_type": "stream",
          "text": [
            "[[-0.25091976  0.90142861]]\n",
            "[[0.46398788 0.19731697]]\n",
            "[[0.28712364 0.         0.33478571]]\n",
            "[[0.         0.         1.08175419]]\n",
            "[[0.28712364 0.         0.33478571]\n",
            " [0.         0.         1.08175419]]\n"
          ],
          "name": "stdout"
        }
      ]
    },
    {
      "cell_type": "markdown",
      "metadata": {
        "id": "akAU3JixHc_k"
      },
      "source": [
        "일반적으로 tensorflow 또는 Pytorch에 이미 dataset에 있는 mnist이지만 이 자료 자체를 사용하려고 하면 해당 사이트에 가서 git clone으로 불러와야 책에서 설명하는 내용대로 실습이 가능하다"
      ]
    },
    {
      "cell_type": "code",
      "metadata": {
        "colab": {
          "base_uri": "https://localhost:8080/"
        },
        "id": "XIx-tlaTFrDR",
        "outputId": "1990952b-dd97-4bf5-a49c-2b2688ea59ff"
      },
      "source": [
        "!git clone https://github.com/datapythonista/mnist.git"
      ],
      "execution_count": null,
      "outputs": [
        {
          "output_type": "stream",
          "text": [
            "fatal: destination path 'mnist' already exists and is not an empty directory.\n"
          ],
          "name": "stdout"
        }
      ]
    },
    {
      "cell_type": "code",
      "metadata": {
        "colab": {
          "base_uri": "https://localhost:8080/",
          "height": 232
        },
        "id": "VVpElpFrD3KZ",
        "outputId": "f1927b32-b5ea-4693-c226-24df7ec7f46a"
      },
      "source": [
        "#Mnist data loading 및 간단한 전처리\n",
        "import numpy as np\n",
        "import mnist\n",
        "np.random.seed(42)\n",
        "\n",
        "#훈련 및 테스트 데이터 로딩\n",
        "X_train, y_train = mnist.train_images(), mnist.train_labels()\n",
        "X_test, y_test = mnist.test_images(), mnist.test_labels()\n",
        "num_classes = 10\n",
        "\n",
        "#이미지를 컬럼 벡터로 변환\n",
        "X_train, X_test = X_train.reshape(-1, 28*28), X_test.reshape(-1, 28*28)\n",
        "#레이블을 원-핫 벡터로 변환\n",
        "y_train = np.eye(num_classes)[y_train]"
      ],
      "execution_count": null,
      "outputs": [
        {
          "output_type": "error",
          "ename": "AttributeError",
          "evalue": "ignored",
          "traceback": [
            "\u001b[0;31m---------------------------------------------------------------------------\u001b[0m",
            "\u001b[0;31mAttributeError\u001b[0m                            Traceback (most recent call last)",
            "\u001b[0;32m<ipython-input-19-7e536314f444>\u001b[0m in \u001b[0;36m<module>\u001b[0;34m()\u001b[0m\n\u001b[1;32m      5\u001b[0m \u001b[0;34m\u001b[0m\u001b[0m\n\u001b[1;32m      6\u001b[0m \u001b[0;31m#훈련 및 테스트 데이터 로딩\u001b[0m\u001b[0;34m\u001b[0m\u001b[0;34m\u001b[0m\u001b[0;34m\u001b[0m\u001b[0m\n\u001b[0;32m----> 7\u001b[0;31m \u001b[0mX_train\u001b[0m\u001b[0;34m,\u001b[0m \u001b[0my_train\u001b[0m \u001b[0;34m=\u001b[0m \u001b[0mmnist\u001b[0m\u001b[0;34m.\u001b[0m\u001b[0mtrain_images\u001b[0m\u001b[0;34m(\u001b[0m\u001b[0;34m)\u001b[0m\u001b[0;34m,\u001b[0m \u001b[0mmnist\u001b[0m\u001b[0;34m.\u001b[0m\u001b[0mtrain_labels\u001b[0m\u001b[0;34m(\u001b[0m\u001b[0;34m)\u001b[0m\u001b[0;34m\u001b[0m\u001b[0;34m\u001b[0m\u001b[0m\n\u001b[0m\u001b[1;32m      8\u001b[0m \u001b[0mX_test\u001b[0m\u001b[0;34m,\u001b[0m \u001b[0my_test\u001b[0m \u001b[0;34m=\u001b[0m \u001b[0mmnist\u001b[0m\u001b[0;34m.\u001b[0m\u001b[0mtest_images\u001b[0m\u001b[0;34m(\u001b[0m\u001b[0;34m)\u001b[0m\u001b[0;34m,\u001b[0m \u001b[0mmnist\u001b[0m\u001b[0;34m.\u001b[0m\u001b[0mtest_labels\u001b[0m\u001b[0;34m(\u001b[0m\u001b[0;34m)\u001b[0m\u001b[0;34m\u001b[0m\u001b[0;34m\u001b[0m\u001b[0m\n\u001b[1;32m      9\u001b[0m \u001b[0mnum_classes\u001b[0m \u001b[0;34m=\u001b[0m \u001b[0;36m10\u001b[0m\u001b[0;34m\u001b[0m\u001b[0;34m\u001b[0m\u001b[0m\n",
            "\u001b[0;31mAttributeError\u001b[0m: module 'mnist' has no attribute 'train_images'"
          ]
        }
      ]
    },
    {
      "cell_type": "code",
      "metadata": {
        "id": "PFiNu_VfH1Cg"
      },
      "source": [
        ""
      ],
      "execution_count": null,
      "outputs": []
    }
  ]
}